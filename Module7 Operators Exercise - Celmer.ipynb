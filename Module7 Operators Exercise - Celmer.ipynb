{
 "cells": [
  {
   "cell_type": "markdown",
   "metadata": {},
   "source": [
    "### Exercise 1\n",
    "Ask a user to enter a number. If the number is positive, print <b>Positive number</b>. Otherwise, do not print any message. Finally, print 'goodbye' message at the end."
   ]
  },
  {
   "cell_type": "code",
   "execution_count": null,
   "metadata": {},
   "outputs": [],
   "source": [
    "#prompt user to enter a number\n",
    "numb1 = int(input(\"Enter a Number: \"))"
   ]
  },
  {
   "cell_type": "code",
   "execution_count": null,
   "metadata": {},
   "outputs": [],
   "source": [
    "# set condition statement to determine if number is even or odd.\n",
    "if numb1 > 0:\n",
    "    print(\"Positive number\")\n",
    "    \n",
    "print(\"goodbye!\")"
   ]
  },
  {
   "cell_type": "markdown",
   "metadata": {},
   "source": [
    "### Exercise 2\n",
    "Ask for a code and store that answer. \n",
    "If the answer is grey then print out if you found secret code.\n",
    "Otherwise print out the code is not the secret code."
   ]
  },
  {
   "cell_type": "code",
   "execution_count": null,
   "metadata": {},
   "outputs": [],
   "source": [
    "# Prompt user to enter code\n",
    "code = input(\"Enter the secret code: \")"
   ]
  },
  {
   "cell_type": "code",
   "execution_count": null,
   "metadata": {},
   "outputs": [],
   "source": [
    "# set condition based on code entered by user\n",
    "if code == \"grey\":\n",
    "    print(\"You found the secret code!\")\n",
    "else :\n",
    "    print(\"Code is not the secret code\")"
   ]
  },
  {
   "cell_type": "markdown",
   "metadata": {},
   "source": [
    "### Exercise 3\n",
    "\n",
    "Ask a user to enter a phrase. If the word contains a number, display the \"Number found\" message. Otherwise, show the \"Number not found\" message. "
   ]
  },
  {
   "cell_type": "code",
   "execution_count": null,
   "metadata": {},
   "outputs": [],
   "source": [
    "#prompt user for phrase\n",
    "phrase = input(\"Please enter a phrase: \")"
   ]
  },
  {
   "cell_type": "code",
   "execution_count": null,
   "metadata": {},
   "outputs": [],
   "source": [
    "#set variables to identify if a number is included in the phrase\n",
    "zero = \"0\" in phrase\n",
    "one = \"1\" in phrase\n",
    "two = \"2\" in phrase\n",
    "three = \"3\" in phrase\n",
    "four = \"4\" in phrase\n",
    "five = \"5\" in phrase\n",
    "six = \"6\" in phrase\n",
    "seven = \"7\" in phrase\n",
    "eight = \"8\" in phrase\n",
    "nine = \"9\" in phrase\n",
    "\n",
    "#print message based on number being in or not in the phrase\n",
    "if zero or one or two or three or four or five or six or seven or eight or nine:\n",
    "    print(\"Number found\")\n",
    "else :\n",
    "    print(\"Number not found\")"
   ]
  },
  {
   "cell_type": "markdown",
   "metadata": {},
   "source": [
    "### Exercise 4\n",
    "\n",
    "Ask a user to enter a number. Then, only if the number is divisible by 2 and 3, show the result of the number divided by two and three in a formated string. The output should look something like this:\n",
    "        \n",
    "    Enter a number: 2\n",
    "    Bye    \n",
    "    \n",
    "    Enter a number: 60\n",
    "    60 / 2 = 30.0\n",
    "    60 / 3 = 20.0\n",
    "    Bye\n",
    "    \n",
    "    Enter a number: 3\n",
    "    Bye\n",
    "    \n",
    "    Enter a number: 10\n",
    "    Bye    "
   ]
  },
  {
   "cell_type": "code",
   "execution_count": null,
   "metadata": {},
   "outputs": [],
   "source": [
    "#Prompt user to input a number\n",
    "numb3 = int(input(\"Enter a number: \"))\n",
    "\n",
    "#set condition for what to do if number is or is not divisible by 2 and 3 \n",
    "if numb3 % 2 == 0 and numb3 % 3 == 0:\n",
    "    print(f\" {numb3} / 2 = \", numb3/2)\n",
    "    print(f\" {numb3} / 3 = \", numb3/3)\n",
    "\n",
    "else:\n",
    "    print(\"Bye\")\n"
   ]
  },
  {
   "cell_type": "markdown",
   "metadata": {},
   "source": [
    "### Exercise 5\n",
    "Ask a user to enter a number. Determine if the number is zero, positive or negative. Use only <b>if</b> and <b>else</b> statements. \n",
    "    "
   ]
  },
  {
   "cell_type": "code",
   "execution_count": null,
   "metadata": {},
   "outputs": [],
   "source": [
    "# function to define number value if it is zero\n",
    "def function_test(numb):\n",
    "    if numb > 0:\n",
    "        print(\"positive\")\n",
    "    \n",
    "    else:\n",
    "        print(\"negative\")"
   ]
  },
  {
   "cell_type": "code",
   "execution_count": null,
   "metadata": {},
   "outputs": [],
   "source": [
    "#prompt user for number input\n",
    "numb = int(input(\"Enter a number: \"))\n",
    "\n",
    "if numb == 0:\n",
    "    print(\"zero\")\n",
    "else:\n",
    "    function_test(numb)\n",
    "\n"
   ]
  }
 ],
 "metadata": {
  "kernelspec": {
   "display_name": "Python 3 (ipykernel)",
   "language": "python",
   "name": "python3"
  },
  "language_info": {
   "codemirror_mode": {
    "name": "ipython",
    "version": 3
   },
   "file_extension": ".py",
   "mimetype": "text/x-python",
   "name": "python",
   "nbconvert_exporter": "python",
   "pygments_lexer": "ipython3",
   "version": "3.9.12"
  }
 },
 "nbformat": 4,
 "nbformat_minor": 4
}
